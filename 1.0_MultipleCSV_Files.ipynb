{
 "cells": [
  {
   "cell_type": "code",
   "execution_count": 4,
   "metadata": {},
   "outputs": [],
   "source": [
    "# All file in csv store in Pandas\n",
    "\n",
    "import pandas as pd\n",
    "import numpy as np \n",
    "import glob\n",
    "path='C:/Users/bhara/Desktop/csvfiles/'\n",
    "files=glob.glob(path+'/*.csv')\n",
    "combineData=[]\n",
    "for filename in files:\n",
    "    df=pd.read_csv(filename, index_col=None,header=0)\n",
    "    combineData.append(df)\n",
    "frame=pd.concat(combineData,axis=0, ignore_index=True)\n",
    "frame.to_csv(\"C:/Users/bhara/Desktop/csvfiles/combined.csv\",index=False,encoding='utf-8-sig')"
   ]
  },
  {
   "cell_type": "code",
   "execution_count": 11,
   "metadata": {},
   "outputs": [],
   "source": [
    "# checking perticular file should not store in folder\n",
    "\n",
    "combineData1=[]\n",
    "for filename1 in files:\n",
    "    if(filename1 != 'C:/Users/bhara/Desktop/csvfiles/cm03AUG2020bhav.csv'): # not to store perticular file\n",
    "        df1=pd.read_csv(filename, index_col=None,header=0)\n",
    "        combineData1.append(df1)\n",
    "    else:\n",
    "        print(\"not store 'cm03AUG2020bhav' \")\n",
    "frame1=pd.concat(combineData1,axis=0, ignore_index=True)\n",
    "frame1.to_csv(\"C:/Users/bhara/Desktop/csvfiles/firstCombined.csv\")  # saving as new file"
   ]
  }
 ],
 "metadata": {
  "kernelspec": {
   "display_name": "Python 3",
   "language": "python",
   "name": "python3"
  },
  "language_info": {
   "codemirror_mode": {
    "name": "ipython",
    "version": 3
   },
   "file_extension": ".py",
   "mimetype": "text/x-python",
   "name": "python",
   "nbconvert_exporter": "python",
   "pygments_lexer": "ipython3",
   "version": "3.6.8"
  }
 },
 "nbformat": 4,
 "nbformat_minor": 2
}
